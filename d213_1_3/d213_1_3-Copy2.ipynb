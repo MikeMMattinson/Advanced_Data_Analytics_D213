{
 "cells": [
  {
   "cell_type": "markdown",
   "id": "789b830d",
   "metadata": {},
   "source": [
    "# D213 Task 1 Rev 3 - Mattinson"
   ]
  },
  {
   "cell_type": "markdown",
   "id": "be5e0194",
   "metadata": {},
   "source": [
    "## import packages & read data"
   ]
  },
  {
   "cell_type": "markdown",
   "id": "d0916d46",
   "metadata": {},
   "source": [
    "### import packages"
   ]
  },
  {
   "cell_type": "code",
   "execution_count": 37,
   "id": "82a8cba2",
   "metadata": {},
   "outputs": [],
   "source": [
    "#import basic libraries\n",
    "import pandas as pd\n",
    "import numpy as np\n",
    "from sklearn.model_selection import train_test_split"
   ]
  },
  {
   "cell_type": "code",
   "execution_count": 38,
   "id": "86b53500",
   "metadata": {},
   "outputs": [],
   "source": [
    "# import and configure matplotlib\n",
    "import matplotlib.pyplot as plt\n",
    "import matplotlib.dates as mdates\n",
    "plt.rcParams['figure.dpi'] = 300\n",
    "plt.rcParams['savefig.dpi'] = 300"
   ]
  },
  {
   "cell_type": "code",
   "execution_count": 2,
   "id": "9ffc9425",
   "metadata": {},
   "outputs": [],
   "source": [
    "# import required model libraries\n",
    "from statsmodels.tsa.stattools import acf, pacf\n",
    "from statsmodels.tsa.arima.model import ARIMA\n",
    "import statsmodels.tsa.stattools as ts"
   ]
  },
  {
   "cell_type": "code",
   "execution_count": 3,
   "id": "49cc9ee7",
   "metadata": {},
   "outputs": [],
   "source": [
    "# Where to save figures and model diagrams\n",
    "# adapted code (Geron, 2019)\n",
    "import os\n",
    "IMAGES_PATH = os.path.join(\".\", \"figures\")\n",
    "os.makedirs(IMAGES_PATH, exist_ok=True)\n",
    "\n",
    "def save_fig(fig_id, tight_layout=True, fig_extension=\"png\", resolution=300):\n",
    "    path = os.path.join(IMAGES_PATH, fig_id + \".\" + fig_extension)\n",
    "    print('Saving figure: {}'.format(fig_id))\n",
    "    if tight_layout:\n",
    "        plt.tight_layout()\n",
    "    plt.savefig(path, format=fig_extension, \n",
    "        dpi=resolution, bbox_inches = \"tight\")\n",
    "    \n",
    "MODEL_PATH = os.path.join(\".\", \"models\")\n",
    "os.makedirs(MODEL_PATH, exist_ok=True)   \n",
    "\n",
    "TABLE_PATH = os.path.join(\".\", \"tables\")\n",
    "os.makedirs(TABLE_PATH, exist_ok=True) \n",
    "\n",
    "DATA_PATH = os.path.join(\".\", \"data\")\n",
    "os.makedirs(DATA_PATH, exist_ok=True)"
   ]
  },
  {
   "cell_type": "markdown",
   "id": "79d0e4f9",
   "metadata": {},
   "source": [
    "### read time data"
   ]
  },
  {
   "cell_type": "code",
   "execution_count": 4,
   "id": "1885b6ab",
   "metadata": {},
   "outputs": [],
   "source": [
    "def read_time_series(file: str, index: str, start_date=None, freq='d') -> pd.DataFrame():\n",
    "    \"\"\"create dataframe of time series data\n",
    "    Author: Mike Mattinson\n",
    "    Date: June 22, 2022\n",
    "    \n",
    "    Parameters\n",
    "    ----------\n",
    "    file: str\n",
    "       filename of time series data\n",
    "    index: str\n",
    "       column name of date index\n",
    "    start_date: datetime\n",
    "       (optional) if using specific start date\n",
    "    freq: str\n",
    "       (default) '24H' 24-hour increments\n",
    "    \n",
    "    Returns\n",
    "    -------\n",
    "    tsdf: pd.DataFrame()\n",
    "       time series dataframe\n",
    "    \n",
    "    \"\"\"\n",
    "    \n",
    "    # read and initialize index\n",
    "    tsdf =  pd.read_csv(file)\n",
    "    tsdf.set_index(index, inplace=True)\n",
    "    \n",
    "    # re-index on specific optional start_date\n",
    "    index_label = 'Date'\n",
    "    if(start_date is not None):\n",
    "        tsdf[index_label] = (pd.date_range(\n",
    "            start=start_date,\n",
    "            periods=tsdf.shape[0],\n",
    "            freq=freq))\n",
    "        tsdf.set_index(index_label, inplace=True)\n",
    "        tsdf['Year'] = tsdf.index.year\n",
    "        tsdf['Month'] = tsdf.index.month\n",
    "        #tsdf['Weekday Name'] = tsdf.index.weekday_name\n",
    "                    \n",
    "    # print out summary\n",
    "    print(tsdf.info())\n",
    "    print(tsdf.shape)\n",
    "    print(tsdf.sample(5, random_state=0))\n",
    "    \n",
    "    return tsdf # time series dataframe"
   ]
  },
  {
   "cell_type": "code",
   "execution_count": 5,
   "id": "9c8748d0",
   "metadata": {
    "scrolled": true
   },
   "outputs": [
    {
     "name": "stdout",
     "output_type": "stream",
     "text": [
      "<class 'pandas.core.frame.DataFrame'>\n",
      "DatetimeIndex: 730 entries, 2020-01-01 to 2021-12-30\n",
      "Data columns (total 3 columns):\n",
      " #   Column   Non-Null Count  Dtype  \n",
      "---  ------   --------------  -----  \n",
      " 0   Revenue  730 non-null    float64\n",
      " 1   Year     730 non-null    int64  \n",
      " 2   Month    730 non-null    int64  \n",
      "dtypes: float64(1), int64(2)\n",
      "memory usage: 22.8 KB\n",
      "None\n",
      "(730, 3)\n",
      "              Revenue  Year  Month\n",
      "Date                              \n",
      "2020-07-15   5.328601  2020      7\n",
      "2020-07-06   5.816199  2020      7\n",
      "2020-01-15   1.085547  2020      1\n",
      "2020-02-01   2.442888  2020      2\n",
      "2021-01-25  11.234359  2021      1\n"
     ]
    }
   ],
   "source": [
    "# read time series data from CSV file\n",
    "from datetime import datetime\n",
    "df =  read_time_series(\n",
    "    file='data/teleco_time_series.csv', \n",
    "    index='Day', freq='d', \n",
    "    start_date=datetime(2020,1,1)\n",
    ")"
   ]
  },
  {
   "cell_type": "markdown",
   "id": "fc2b3b47",
   "metadata": {},
   "source": [
    "## clean & explore data"
   ]
  },
  {
   "cell_type": "code",
   "execution_count": 6,
   "id": "ac61ef08",
   "metadata": {},
   "outputs": [
    {
     "data": {
      "text/html": [
       "<div>\n",
       "<style scoped>\n",
       "    .dataframe tbody tr th:only-of-type {\n",
       "        vertical-align: middle;\n",
       "    }\n",
       "\n",
       "    .dataframe tbody tr th {\n",
       "        vertical-align: top;\n",
       "    }\n",
       "\n",
       "    .dataframe thead th {\n",
       "        text-align: right;\n",
       "    }\n",
       "</style>\n",
       "<table border=\"1\" class=\"dataframe\">\n",
       "  <thead>\n",
       "    <tr style=\"text-align: right;\">\n",
       "      <th></th>\n",
       "      <th>Revenue</th>\n",
       "      <th>Year</th>\n",
       "      <th>Month</th>\n",
       "    </tr>\n",
       "    <tr>\n",
       "      <th>Date</th>\n",
       "      <th></th>\n",
       "      <th></th>\n",
       "      <th></th>\n",
       "    </tr>\n",
       "  </thead>\n",
       "  <tbody>\n",
       "    <tr>\n",
       "      <th>2020-01-01</th>\n",
       "      <td>0.000000</td>\n",
       "      <td>2020</td>\n",
       "      <td>1</td>\n",
       "    </tr>\n",
       "    <tr>\n",
       "      <th>2020-04-10</th>\n",
       "      <td>6.487956</td>\n",
       "      <td>2020</td>\n",
       "      <td>4</td>\n",
       "    </tr>\n",
       "    <tr>\n",
       "      <th>2020-07-19</th>\n",
       "      <td>6.419180</td>\n",
       "      <td>2020</td>\n",
       "      <td>7</td>\n",
       "    </tr>\n",
       "    <tr>\n",
       "      <th>2020-10-27</th>\n",
       "      <td>10.785571</td>\n",
       "      <td>2020</td>\n",
       "      <td>10</td>\n",
       "    </tr>\n",
       "    <tr>\n",
       "      <th>2021-02-04</th>\n",
       "      <td>12.281446</td>\n",
       "      <td>2021</td>\n",
       "      <td>2</td>\n",
       "    </tr>\n",
       "    <tr>\n",
       "      <th>2021-05-15</th>\n",
       "      <td>12.980905</td>\n",
       "      <td>2021</td>\n",
       "      <td>5</td>\n",
       "    </tr>\n",
       "    <tr>\n",
       "      <th>2021-08-23</th>\n",
       "      <td>14.651651</td>\n",
       "      <td>2021</td>\n",
       "      <td>8</td>\n",
       "    </tr>\n",
       "    <tr>\n",
       "      <th>2021-12-01</th>\n",
       "      <td>15.269829</td>\n",
       "      <td>2021</td>\n",
       "      <td>12</td>\n",
       "    </tr>\n",
       "  </tbody>\n",
       "</table>\n",
       "</div>"
      ],
      "text/plain": [
       "              Revenue  Year  Month\n",
       "Date                              \n",
       "2020-01-01   0.000000  2020      1\n",
       "2020-04-10   6.487956  2020      4\n",
       "2020-07-19   6.419180  2020      7\n",
       "2020-10-27  10.785571  2020     10\n",
       "2021-02-04  12.281446  2021      2\n",
       "2021-05-15  12.980905  2021      5\n",
       "2021-08-23  14.651651  2021      8\n",
       "2021-12-01  15.269829  2021     12"
      ]
     },
     "execution_count": 6,
     "metadata": {},
     "output_type": "execute_result"
    }
   ],
   "source": [
    "# show sample from dataframe\n",
    "df.iloc[::100, :]"
   ]
  },
  {
   "cell_type": "code",
   "execution_count": 7,
   "id": "3c479bf0",
   "metadata": {},
   "outputs": [],
   "source": [
    "# drop zero values\n",
    "df= df[df['Revenue'] != 0]"
   ]
  },
  {
   "cell_type": "code",
   "execution_count": 8,
   "id": "eea9bd8a",
   "metadata": {},
   "outputs": [
    {
     "data": {
      "text/html": [
       "<div>\n",
       "<style scoped>\n",
       "    .dataframe tbody tr th:only-of-type {\n",
       "        vertical-align: middle;\n",
       "    }\n",
       "\n",
       "    .dataframe tbody tr th {\n",
       "        vertical-align: top;\n",
       "    }\n",
       "\n",
       "    .dataframe thead th {\n",
       "        text-align: right;\n",
       "    }\n",
       "</style>\n",
       "<table border=\"1\" class=\"dataframe\">\n",
       "  <thead>\n",
       "    <tr style=\"text-align: right;\">\n",
       "      <th></th>\n",
       "      <th>Revenue</th>\n",
       "      <th>Year</th>\n",
       "      <th>Month</th>\n",
       "    </tr>\n",
       "  </thead>\n",
       "  <tbody>\n",
       "    <tr>\n",
       "      <th>count</th>\n",
       "      <td>729.000000</td>\n",
       "      <td>729.000000</td>\n",
       "      <td>729.000000</td>\n",
       "    </tr>\n",
       "    <tr>\n",
       "      <th>mean</th>\n",
       "      <td>9.849038</td>\n",
       "      <td>2020.499314</td>\n",
       "      <td>6.519890</td>\n",
       "    </tr>\n",
       "    <tr>\n",
       "      <th>std</th>\n",
       "      <td>3.825359</td>\n",
       "      <td>0.500343</td>\n",
       "      <td>3.444609</td>\n",
       "    </tr>\n",
       "    <tr>\n",
       "      <th>min</th>\n",
       "      <td>0.000793</td>\n",
       "      <td>2020.000000</td>\n",
       "      <td>1.000000</td>\n",
       "    </tr>\n",
       "    <tr>\n",
       "      <th>25%</th>\n",
       "      <td>6.916245</td>\n",
       "      <td>2020.000000</td>\n",
       "      <td>4.000000</td>\n",
       "    </tr>\n",
       "    <tr>\n",
       "      <th>50%</th>\n",
       "      <td>10.804153</td>\n",
       "      <td>2020.000000</td>\n",
       "      <td>7.000000</td>\n",
       "    </tr>\n",
       "    <tr>\n",
       "      <th>75%</th>\n",
       "      <td>12.568041</td>\n",
       "      <td>2021.000000</td>\n",
       "      <td>10.000000</td>\n",
       "    </tr>\n",
       "    <tr>\n",
       "      <th>max</th>\n",
       "      <td>18.154769</td>\n",
       "      <td>2021.000000</td>\n",
       "      <td>12.000000</td>\n",
       "    </tr>\n",
       "  </tbody>\n",
       "</table>\n",
       "</div>"
      ],
      "text/plain": [
       "          Revenue         Year       Month\n",
       "count  729.000000   729.000000  729.000000\n",
       "mean     9.849038  2020.499314    6.519890\n",
       "std      3.825359     0.500343    3.444609\n",
       "min      0.000793  2020.000000    1.000000\n",
       "25%      6.916245  2020.000000    4.000000\n",
       "50%     10.804153  2020.000000    7.000000\n",
       "75%     12.568041  2021.000000   10.000000\n",
       "max     18.154769  2021.000000   12.000000"
      ]
     },
     "execution_count": 8,
     "metadata": {},
     "output_type": "execute_result"
    }
   ],
   "source": [
    "# descripe numerical data\n",
    "df.describe()"
   ]
  },
  {
   "cell_type": "code",
   "execution_count": 9,
   "id": "11b65f4e",
   "metadata": {},
   "outputs": [],
   "source": [
    "#find rolling mean of previous n periods\n",
    "n_days = 30\n",
    "df['rolling_mean'] = df['Revenue'].rolling(n_days).mean()\n",
    "df['rolling_std'] = df['Revenue'].rolling(n_days).std()"
   ]
  },
  {
   "cell_type": "code",
   "execution_count": 10,
   "id": "3aa6d52e",
   "metadata": {},
   "outputs": [
    {
     "data": {
      "text/plain": [
       "Revenue         False\n",
       "Year            False\n",
       "Month           False\n",
       "rolling_mean     True\n",
       "rolling_std      True\n",
       "dtype: bool"
      ]
     },
     "execution_count": 10,
     "metadata": {},
     "output_type": "execute_result"
    }
   ],
   "source": [
    "#check missing data\n",
    "df.isnull().any()"
   ]
  },
  {
   "cell_type": "markdown",
   "id": "c1b55f9f",
   "metadata": {},
   "source": [
    "### export cleaned data"
   ]
  },
  {
   "cell_type": "code",
   "execution_count": 11,
   "id": "31b5cbb9",
   "metadata": {},
   "outputs": [
    {
     "name": "stdout",
     "output_type": "stream",
     "text": [
      "<class 'pandas.core.frame.DataFrame'>\n",
      "DatetimeIndex: 729 entries, 2020-01-02 to 2021-12-30\n",
      "Data columns (total 5 columns):\n",
      " #   Column        Non-Null Count  Dtype  \n",
      "---  ------        --------------  -----  \n",
      " 0   Revenue       729 non-null    float64\n",
      " 1   Year          729 non-null    int64  \n",
      " 2   Month         729 non-null    int64  \n",
      " 3   rolling_mean  700 non-null    float64\n",
      " 4   rolling_std   700 non-null    float64\n",
      "dtypes: float64(3), int64(2)\n",
      "memory usage: 34.2 KB\n",
      "None\n",
      "(729, 5)\n",
      "              Revenue  Year  Month  rolling_mean  rolling_std\n",
      "Date                                                         \n",
      "2020-01-02   0.000793  2020      1           NaN          NaN\n",
      "2020-04-11   6.055527  2020      4      6.782663     0.687540\n",
      "2020-07-20   6.770456  2020      7      5.870610     0.420109\n",
      "2020-10-28   9.760365  2020     10     10.492095     0.703232\n",
      "2021-02-05  12.052705  2021      2     11.369189     0.754945\n",
      "2021-05-16  12.909134  2021      5     13.000165     0.689036\n",
      "2021-08-24  14.514572  2021      8     13.872658     0.563632\n",
      "2021-12-02  15.563935  2021     12     13.910287     1.265516\n"
     ]
    }
   ],
   "source": [
    "# export cleaned data to file\n",
    "df.to_csv('tables\\cleaned.csv', index=True, header=True)\n",
    "print(df.info())\n",
    "print(df.shape)\n",
    "print(df.iloc[::100, :])"
   ]
  },
  {
   "cell_type": "code",
   "execution_count": 12,
   "id": "fc7deaad",
   "metadata": {},
   "outputs": [
    {
     "name": "stdout",
     "output_type": "stream",
     "text": [
      "<class 'pandas.core.frame.DataFrame'>\n",
      "DatetimeIndex: 729 entries, 2020-01-02 to 2021-12-30\n",
      "Data columns (total 5 columns):\n",
      " #   Column        Non-Null Count  Dtype  \n",
      "---  ------        --------------  -----  \n",
      " 0   Revenue       729 non-null    float64\n",
      " 1   Year          729 non-null    int64  \n",
      " 2   Month         729 non-null    int64  \n",
      " 3   rolling_mean  700 non-null    float64\n",
      " 4   rolling_std   700 non-null    float64\n",
      "dtypes: float64(3), int64(2)\n",
      "memory usage: 34.2 KB\n"
     ]
    }
   ],
   "source": [
    "df.info()"
   ]
  },
  {
   "cell_type": "markdown",
   "id": "ae56de98",
   "metadata": {},
   "source": [
    "### revenue plot with polyfit regression"
   ]
  },
  {
   "cell_type": "markdown",
   "id": "9e12e7d8",
   "metadata": {},
   "source": [
    "https://stackoverflow.com/questions/39801403/how-to-derive-equation-from-numpys-polyfit"
   ]
  },
  {
   "cell_type": "raw",
   "id": "896177d1",
   "metadata": {},
   "source": [
    "!pip install sympy"
   ]
  },
  {
   "cell_type": "code",
   "execution_count": 13,
   "id": "099ea17b",
   "metadata": {},
   "outputs": [
    {
     "name": "stdout",
     "output_type": "stream",
     "text": [
      "[ 4.51657462e-08 -6.81697467e-05  4.45492435e-02  1.32180215e+00]\n",
      "-6.82e-5*x**2 + 0.0445492*x + 1.3218021\n"
     ]
    }
   ],
   "source": [
    "# equation of poly fit \n",
    "from sympy import S, symbols, printing\n",
    "x = pd.Series(range(df.shape[0]))\n",
    "y = df['Revenue'].values\n",
    "n_deg = 3\n",
    "p = np.polyfit(x, y, deg=n_deg)\n",
    "f = np.poly1d(p)\n",
    "e = symbols(\"x\")\n",
    "poly = sum(S(\"{:6.7f}\".format(v))*e**i for i, v in enumerate(p[::-1]))\n",
    "eq_latex = printing.latex(poly)\n",
    "print(p)\n",
    "print(poly) # won't include zero terms"
   ]
  },
  {
   "cell_type": "code",
   "execution_count": 35,
   "id": "dc4ba43c",
   "metadata": {},
   "outputs": [
    {
     "name": "stdout",
     "output_type": "stream",
     "text": [
      "Saving figure: Revenue ($M)\n"
     ]
    },
    {
     "data": {
      "image/png": "[encoded data removed]",
      "text/plain": [
       "<Figure size 648x576 with 2 Axes>"
      ]
     },
     "metadata": {
      "needs_background": "light"
     },
     "output_type": "display_data"
    }
   ],
   "source": [
    "# visualize raw revenue data\n",
    "x = pd.Series(df.index.values) # if using date\n",
    "x2 = pd.Series(range(df.shape[0])) # if using date index\n",
    "fig, ax = plt.subplots(2,1, figsize = (9, 8), sharex=True, sharey=True)\n",
    "ax[0].plot(x, df.Revenue, 'r-', label='Revenue')\n",
    "ax[1].plot(x, df.Revenue, 'r-', label='Revenue')\n",
    "ax[0].plot(x,f(x2),\"b\", label='Poly fit (deg=' + str(n_deg) + ')')\n",
    "ax[0].legend()\n",
    "ax[0].set_title('Revenue ($M)')\n",
    "ax[1].plot(x,df['rolling_mean'], \"b-.\",\n",
    "         label=str(n_days) + '-d Roll Mean')\n",
    "ax[1].plot(x,df['rolling_std'], \"g\", \n",
    "         label=str(n_days) + '-d Roll Std')\n",
    "ax[1].set_title('Revenue ($M) - 30-d Rolling Mean')\n",
    "ax[1].legend()\n",
    "import matplotlib.dates as mdates\n",
    "ax[1].xaxis.set_major_locator(mdates.YearLocator())\n",
    "ax[1].xaxis.set_major_formatter(mdates.DateFormatter('%Y'))\n",
    "ax[1].xaxis.set_minor_locator(mdates.MonthLocator())\n",
    "ax[1].xaxis.set_minor_formatter(mdates.DateFormatter('\\n%b'))\n",
    "fig.supxlabel('Date') # common x label\n",
    "fig.supylabel('Revenue ($M)') # common y label\n",
    "#plt.gcf().text(0, -.1, \"${}$\".format(eq_latex), fontsize=14)\n",
    "title = 'Revenue ($M)'\n",
    "save_fig(title) "
   ]
  },
  {
   "cell_type": "markdown",
   "id": "290eee01",
   "metadata": {},
   "source": [
    "Generally, trending up and not stationary. Also, does not appear to have seasonality."
   ]
  },
  {
   "cell_type": "markdown",
   "id": "3c142b72",
   "metadata": {},
   "source": [
    "## diff data - make stationary"
   ]
  },
  {
   "cell_type": "markdown",
   "id": "e43629fe",
   "metadata": {},
   "source": [
    "### dickey-fuller - on raw data, non-stationary data"
   ]
  },
  {
   "cell_type": "markdown",
   "id": "b5d9c1f4",
   "metadata": {},
   "source": [
    "https://www.statsmodels.org/dev/generated/statsmodels.tsa.stattools.adfuller.html\n",
    "\n",
    "https://machinelearningmastery.com/time-series-data-stationary-python/ \n",
    "\n",
    "https://www.machinelearningplus.com/time-series/augmented-dickey-fuller-test/"
   ]
  },
  {
   "cell_type": "code",
   "execution_count": 15,
   "id": "d0c8d335",
   "metadata": {},
   "outputs": [],
   "source": [
    "import statsmodels.tsa.stattools as ts\n",
    "def dickey_fuller(\n",
    "    array: np.array, \n",
    "    critical=0.05,\n",
    "    stats=False) -> float:\n",
    "    \"\"\"return p-value of augmented dickey-fullter test\n",
    "    Author: Mike Mattinson\n",
    "    Date: June 29, 2022\n",
    "    \n",
    "    Parameters\n",
    "    ----------\n",
    "    array: np.array # array-like\n",
    "       array of values to be evaluated\n",
    "    critical: float (default=0.05)\n",
    "       critical value\n",
    "    stats: bool (default=False)\n",
    "        include stats is output or not\n",
    "    \n",
    "    Returns\n",
    "    -------\n",
    "    pvalue: float\n",
    "        p-value\n",
    "\n",
    "    \"\"\"\n",
    "    result = ts.adfuller(array, autolag='AIC')\n",
    "    pvalue = result[1]\n",
    "    \n",
    "    if(stats):\n",
    "        print('ADF Statistic: %f' % result[0])\n",
    "        print('p-value: %f' % pvalue)\n",
    "        print('Critical Values:')\n",
    "        for key, value in result[4].items():\n",
    "            print('\\t%s: %.3f' % (key, value))\n",
    "    \n",
    "    if pvalue <= critical:\n",
    "        print('Reject H0, data is stationary.')\n",
    "    else:\n",
    "        print('Accept H0, data is non-stationary.')\n",
    "    \n",
    "    return pvalue"
   ]
  },
  {
   "cell_type": "code",
   "execution_count": 16,
   "id": "243a795e",
   "metadata": {},
   "outputs": [
    {
     "name": "stdout",
     "output_type": "stream",
     "text": [
      "ADF Statistic: -1.787175\n",
      "p-value: 0.386847\n",
      "Critical Values:\n",
      "\t1%: -3.439\n",
      "\t5%: -2.866\n",
      "\t10%: -2.569\n",
      "Accept H0, data is non-stationary.\n"
     ]
    },
    {
     "data": {
      "text/plain": [
       "0.3868472463695337"
      ]
     },
     "execution_count": 16,
     "metadata": {},
     "output_type": "execute_result"
    }
   ],
   "source": [
    "# augmented dickey-fuller\n",
    "dickey_fuller(df['Revenue'].values, stats=True)"
   ]
  },
  {
   "cell_type": "markdown",
   "id": "f1d52e42",
   "metadata": {},
   "source": [
    "https://pandas.pydata.org/docs/reference/api/pandas.DataFrame.diff.html"
   ]
  },
  {
   "cell_type": "code",
   "execution_count": 17,
   "id": "8439dc86",
   "metadata": {},
   "outputs": [
    {
     "name": "stdout",
     "output_type": "stream",
     "text": [
      "<class 'pandas.core.frame.DataFrame'>\n",
      "DatetimeIndex: 699 entries, 2020-02-01 to 2021-12-30\n",
      "Data columns (total 5 columns):\n",
      " #   Column        Non-Null Count  Dtype  \n",
      "---  ------        --------------  -----  \n",
      " 0   Revenue       699 non-null    float64\n",
      " 1   Year          699 non-null    float64\n",
      " 2   Month         699 non-null    float64\n",
      " 3   rolling_mean  699 non-null    float64\n",
      " 4   rolling_std   699 non-null    float64\n",
      "dtypes: float64(5)\n",
      "memory usage: 32.8 KB\n",
      "None\n",
      "(699, 5)\n"
     ]
    }
   ],
   "source": [
    "\"\"\"Calculates difference of Dataframe element compared with another \n",
    "element in the Dataframe (default is element in previous row).\"\"\"\n",
    "df_stationary = df.diff(periods=1,axis=0).dropna()\n",
    "print(df_stationary.info())\n",
    "print(df_stationary.shape)\n",
    "#print(df_stationary.describe())"
   ]
  },
  {
   "cell_type": "markdown",
   "id": "af39f9c3",
   "metadata": {},
   "source": [
    "### dickey-fuller - on differenced data"
   ]
  },
  {
   "cell_type": "code",
   "execution_count": 18,
   "id": "44d95908",
   "metadata": {},
   "outputs": [
    {
     "name": "stdout",
     "output_type": "stream",
     "text": [
      "ADF Statistic: -43.503317\n",
      "p-value: 0.000000\n",
      "Critical Values:\n",
      "\t1%: -3.440\n",
      "\t5%: -2.866\n",
      "\t10%: -2.569\n",
      "Reject H0, data is stationary.\n"
     ]
    },
    {
     "data": {
      "text/plain": [
       "0.0"
      ]
     },
     "execution_count": 18,
     "metadata": {},
     "output_type": "execute_result"
    }
   ],
   "source": [
    "# augmented dickey-fuller\n",
    "dickey_fuller(df_stationary['Revenue'].values, stats=True)"
   ]
  },
  {
   "cell_type": "markdown",
   "id": "d213f367",
   "metadata": {},
   "source": [
    "### export stationary data"
   ]
  },
  {
   "cell_type": "code",
   "execution_count": 19,
   "id": "991714e2",
   "metadata": {},
   "outputs": [
    {
     "name": "stdout",
     "output_type": "stream",
     "text": [
      "<class 'pandas.core.frame.DataFrame'>\n",
      "DatetimeIndex: 699 entries, 2020-02-01 to 2021-12-30\n",
      "Data columns (total 5 columns):\n",
      " #   Column        Non-Null Count  Dtype  \n",
      "---  ------        --------------  -----  \n",
      " 0   Revenue       699 non-null    float64\n",
      " 1   Year          699 non-null    float64\n",
      " 2   Month         699 non-null    float64\n",
      " 3   rolling_mean  699 non-null    float64\n",
      " 4   rolling_std   699 non-null    float64\n",
      "dtypes: float64(5)\n",
      "memory usage: 32.8 KB\n",
      "None\n",
      "(699, 5)\n",
      "             Revenue  Year  Month  rolling_mean  rolling_std\n",
      "Date                                                        \n",
      "2020-02-01 -0.675342   0.0    1.0      0.081403    -0.026838\n",
      "2020-05-11  0.050562   0.0    0.0      0.059181    -0.035008\n",
      "2020-08-19  1.049345   0.0    0.0      0.064358     0.140500\n",
      "2020-11-27  0.177593   0.0    0.0      0.015650     0.008290\n",
      "2021-03-07  0.062254   0.0    0.0      0.023540     0.027416\n",
      "2021-06-15  0.620871   0.0    0.0      0.017117     0.031645\n",
      "2021-09-23 -0.091047   0.0    0.0     -0.149213     0.024419\n"
     ]
    }
   ],
   "source": [
    "# export stationary data to file\n",
    "df_stationary.to_csv('tables\\stationary.csv', index=True, header=True)\n",
    "print(df_stationary.info())\n",
    "print(df_stationary.shape)\n",
    "print(df_stationary.iloc[::100, :])"
   ]
  },
  {
   "cell_type": "markdown",
   "id": "2c1fe0f4",
   "metadata": {},
   "source": [
    "## train test split"
   ]
  },
  {
   "cell_type": "markdown",
   "id": "378021b0",
   "metadata": {},
   "source": [
    "https://scikit-learn.org/stable/modules/generated/sklearn.model_selection.train_test_split.html"
   ]
  },
  {
   "cell_type": "code",
   "execution_count": 20,
   "id": "70335c09",
   "metadata": {},
   "outputs": [
    {
     "name": "stdout",
     "output_type": "stream",
     "text": [
      "training: (590, 5)\n",
      "testing: (139, 5)\n"
     ]
    }
   ],
   "source": [
    "#setup training and test data 80/20\n",
    "test_size = int(.20 * df_stationary.shape[0])  # last 20%\n",
    "train, test = train_test_split(df, test_size=test_size, shuffle=False)\n",
    "print('training: {}'.format(train.shape))\n",
    "print('testing: {}'.format(test.shape))"
   ]
  },
  {
   "cell_type": "markdown",
   "id": "d31291e0",
   "metadata": {},
   "source": [
    "## spectral density"
   ]
  },
  {
   "cell_type": "code",
   "execution_count": null,
   "id": "18b47d1b",
   "metadata": {},
   "outputs": [],
   "source": []
  },
  {
   "cell_type": "markdown",
   "id": "aef79dc0",
   "metadata": {},
   "source": [
    "## acf/pacf - on training data"
   ]
  },
  {
   "cell_type": "code",
   "execution_count": 21,
   "id": "631dc3e5",
   "metadata": {},
   "outputs": [
    {
     "name": "stdout",
     "output_type": "stream",
     "text": [
      "Saving figure: ACF-PACF on training data\n"
     ]
    },
    {
     "data": {
      "image/png": "[encoded data removed]",
      "text/plain": [
       "<Figure size 432x288 with 2 Axes>"
      ]
     },
     "metadata": {
      "needs_background": "light"
     },
     "output_type": "display_data"
    }
   ],
   "source": [
    "# autocorrelation/partial autocorrleation\n",
    "acf_series = acf((train['Revenue'].values))\n",
    "acf_df = pd.DataFrame([acf_series]).T\n",
    "acf_df.columns = ['ACF']\n",
    "pacf_series = pacf((train['Revenue'].values))\n",
    "pacf_df = pd.DataFrame([pacf_series]).T\n",
    "pacf_df.columns = ['PACF']\n",
    "fig, ax = plt.subplots(2,1, sharex=True, sharey=False)\n",
    "ax[0].plot(acf_df.ACF, 'b-')\n",
    "ax[1].plot(pacf_df.PACF, 'b-')\n",
    "fig.supxlabel('Lag') # common x label\n",
    "fig.supylabel('Correlation') # common y label\n",
    "ax[1].hlines(y=0.05, xmin=0, xmax=len(pacf_series), lw=1, \n",
    "             linestyles='--', color='r', label='P(0.05)')\n",
    "ax[1].legend()\n",
    "title = 'ACF-PACF on training data'\n",
    "ax[0].set_title('Autocorrelation (ACF) on training data')\n",
    "ax[1].set_title('Partial Autocorrelation (PACF) on training data')\n",
    "save_fig(title)"
   ]
  },
  {
   "cell_type": "markdown",
   "id": "77493d17",
   "metadata": {},
   "source": [
    "## decompose cleaned data"
   ]
  },
  {
   "cell_type": "markdown",
   "id": "f4bc8189",
   "metadata": {},
   "source": [
    "https://machinelearningmastery.com/decompose-time-series-data-trend-seasonality/"
   ]
  },
  {
   "cell_type": "code",
   "execution_count": 22,
   "id": "29f38e89",
   "metadata": {
    "scrolled": true
   },
   "outputs": [
    {
     "name": "stdout",
     "output_type": "stream",
     "text": [
      "Saving figure: Decomposition on cleaned data\n"
     ]
    },
    {
     "data": {
      "image/png": "[encoded data removed]",
      "text/plain": [
       "<Figure size 432x288 with 4 Axes>"
      ]
     },
     "metadata": {
      "needs_background": "light"
     },
     "output_type": "display_data"
    }
   ],
   "source": [
    "# decompose cleaned data - additive\n",
    "from statsmodels.tsa.seasonal import seasonal_decompose\n",
    "result = seasonal_decompose(df['Revenue'].values, \n",
    "            model='additive', period=1)\n",
    "result.plot()\n",
    "title = 'Decomposition on cleaned data'\n",
    "save_fig(title)"
   ]
  },
  {
   "cell_type": "raw",
   "id": "b23093a2",
   "metadata": {},
   "source": [
    "# decompose log data\n",
    "result = seasonal_decompose(lnrevenue, model='additive', period=1)\n",
    "result.plot()\n",
    "pyplot.show()"
   ]
  },
  {
   "cell_type": "raw",
   "id": "73b7e5e2",
   "metadata": {},
   "source": [
    "# decompose revenue data - multiplicative\n",
    "# adapted from https://machinelearningmastery.com/decompose-time-series-data-trend-seasonality/\n",
    "from matplotlib import pyplot\n",
    "from statsmodels.tsa.seasonal import seasonal_decompose\n",
    "result = seasonal_decompose(revenue, model='multiplicative', period=1)\n",
    "result.plot()\n",
    "pyplot.show()"
   ]
  },
  {
   "cell_type": "markdown",
   "id": "fca3d296",
   "metadata": {},
   "source": [
    "## define & train model(s)"
   ]
  },
  {
   "cell_type": "markdown",
   "id": "801fedb1",
   "metadata": {},
   "source": [
    "### arima_v1"
   ]
  },
  {
   "cell_type": "code",
   "execution_count": 23,
   "id": "9d994f03",
   "metadata": {},
   "outputs": [
    {
     "name": "stdout",
     "output_type": "stream",
     "text": [
      "                               SARIMAX Results                                \n",
      "==============================================================================\n",
      "Dep. Variable:                      y   No. Observations:                  590\n",
      "Model:                 ARIMA(0, 1, 0)   Log Likelihood                -459.398\n",
      "Date:                Wed, 29 Jun 2022   AIC                            920.795\n",
      "Time:                        04:19:38   BIC                            925.174\n",
      "Sample:                             0   HQIC                           922.501\n",
      "                                - 590                                         \n",
      "Covariance Type:                  opg                                         \n",
      "==============================================================================\n",
      "                 coef    std err          z      P>|z|      [0.025      0.975]\n",
      "------------------------------------------------------------------------------\n",
      "sigma2         0.2786      0.017     16.095      0.000       0.245       0.313\n",
      "===================================================================================\n",
      "Ljung-Box (L1) (Q):                 126.65   Jarque-Bera (JB):                 2.41\n",
      "Prob(Q):                              0.00   Prob(JB):                         0.30\n",
      "Heteroskedasticity (H):               0.90   Skew:                            -0.11\n",
      "Prob(H) (two-sided):                  0.45   Kurtosis:                         2.78\n",
      "===================================================================================\n",
      "\n",
      "Warnings:\n",
      "[1] Covariance matrix calculated using the outer product of gradients (complex-step).\n"
     ]
    }
   ],
   "source": [
    "# run model and predict\n",
    "X_train = np.array(train['Revenue'])\n",
    "model = ARIMA(X_train, order=(0,1,0))\n",
    "arima_v1 = model.fit()\n",
    "print(arima_v1.summary())"
   ]
  },
  {
   "cell_type": "markdown",
   "id": "78e0d5a0",
   "metadata": {},
   "source": [
    "## plot predictions"
   ]
  },
  {
   "cell_type": "code",
   "execution_count": 24,
   "id": "7421061e",
   "metadata": {},
   "outputs": [
    {
     "data": {
      "text/plain": [
       "array([13.90272062, 13.90272062, 13.90272062, 13.90272062, 13.90272062,\n",
       "       13.90272062, 13.90272062, 13.90272062, 13.90272062, 13.90272062,\n",
       "       13.90272062])"
      ]
     },
     "execution_count": 24,
     "metadata": {},
     "output_type": "execute_result"
    }
   ],
   "source": [
    "# predict next 9 time step values\n",
    "n_predictions = 9; last_time = 730\n",
    "predictions = arima_v1.predict(700,710, type='levels')\n",
    "predictions"
   ]
  },
  {
   "cell_type": "code",
   "execution_count": 25,
   "id": "afb81fd6",
   "metadata": {},
   "outputs": [
    {
     "name": "stdout",
     "output_type": "stream",
     "text": [
      "Saving figure: Predictions\n"
     ]
    },
    {
     "data": {
      "image/png": "[encoded data removed]",
      "text/plain": [
       "<Figure size 432x288 with 1 Axes>"
      ]
     },
     "metadata": {
      "needs_background": "light"
     },
     "output_type": "display_data"
    }
   ],
   "source": [
    "x = range(len(predictions))\n",
    "fig, ax = plt.subplots()\n",
    "ax.plot(x, predictions, \"b\", label='Predictions')\n",
    "plt.xlabel(\"Date Index\")\n",
    "plt.ylabel(\"Revenue\")\n",
    "title = 'Predictions'\n",
    "plt.locator_params(axis=\"both\", \n",
    "      integer=True, tight=False)\n",
    "plt.legend()\n",
    "plt.grid()\n",
    "plt.title(title)\n",
    "save_fig(title) "
   ]
  },
  {
   "cell_type": "code",
   "execution_count": null,
   "id": "e66d97b4",
   "metadata": {},
   "outputs": [],
   "source": []
  },
  {
   "cell_type": "code",
   "execution_count": null,
   "id": "3ad4115c",
   "metadata": {},
   "outputs": [],
   "source": []
  },
  {
   "cell_type": "markdown",
   "id": "39615f5d",
   "metadata": {},
   "source": [
    "https://stackoverflow.com/questions/60191082/python-matplotlib-1-format-x-axis-labels-to-year-quarter-and-2-set-major-loc"
   ]
  },
  {
   "cell_type": "raw",
   "id": "589e93f5",
   "metadata": {},
   "source": [
    "import pandas as pd\n",
    "import numpy as np\n",
    "import matplotlib.pyplot as plt\n",
    "import matplotlib.dates as mdates\n",
    "from datetime import datetime\n",
    "from datetime import timedelta\n",
    "%matplotlib inline\n",
    "\n",
    "from pandas.plotting import register_matplotlib_converters\n",
    "register_matplotlib_converters()\n",
    "\n",
    "dti = pd.date_range('2012-12-31', periods=30, freq='Q')\n",
    "s1 = pd.Series(range(30),index=dti)\n",
    "s2 = pd.Series(np.random.randint(100,1000,size=(30)),index=dti)\n",
    "\n",
    "df = s2.to_frame(name='count')\n",
    "df = df.to_period(freq='Q')\n",
    "#print(df)\n",
    "f1 = plt.figure(\"Quarterly\",figsize=(10,5))\n",
    "ax = plt.subplot(1,1,1)\n",
    "# dayloc = mdates.MonthLocator([3,6,9,12])\n",
    "# ax.xaxis.set_major_locator(dayloc)\n",
    "# ax.xaxis.set_major_formatter(mdates.DateFormatter('%Y-%m-%d'))\n",
    "\n",
    "# y= [datetime.date(t) for t in df.index]\n",
    "# z= [datetime.date(t).replace(day=1)+timedelta(days=0) for t in df.index]\n",
    "# widths = [t1-t0-timedelta(days=0) for t0,t1 in zip(z,y)]\n",
    "\n",
    "# ax.bar(y,df['count'],width=widths)\n",
    "df.plot.bar(ax=ax)\n",
    "plt.setp(ax.get_xticklabels(), rotation=90)\n",
    "f1.tight_layout()"
   ]
  },
  {
   "cell_type": "markdown",
   "id": "97c01523",
   "metadata": {},
   "source": [
    "https://www.tutorialspoint.com/how-can-i-plot-two-different-spaced-time-series-on-one-same-plot-in-python-matplotlib"
   ]
  },
  {
   "cell_type": "code",
   "execution_count": 26,
   "id": "2ca98399",
   "metadata": {},
   "outputs": [
    {
     "data": {
      "image/png": "[encoded data removed]",
      "text/plain": [
       "<Figure size 504x252 with 1 Axes>"
      ]
     },
     "metadata": {
      "needs_background": "light"
     },
     "output_type": "display_data"
    }
   ],
   "source": [
    "import matplotlib.pyplot as plt\n",
    "from matplotlib.dates import date2num, DateFormatter\n",
    "import datetime as dt\n",
    "\n",
    "plt.rcParams[\"figure.figsize\"] = [7.00, 3.50]\n",
    "plt.rcParams[\"figure.autolayout\"] = True\n",
    "\n",
    "x1 = [date2num(dt.datetime(2021, 1, 15, 1, 1, 1)), date2num(dt.datetime(2021, 1, 15, 9, 1, 1))]\n",
    "\n",
    "y1 = [6, 2]\n",
    "\n",
    "x2 = [ date2num(dt.datetime(2021, 1, 15, 2, 1, 1)),\n",
    "    date2num(dt.datetime(2021, 1, 15, 4, 1, 1)),\n",
    "    date2num(dt.datetime(2021, 1, 15, 6, 1, 1)),\n",
    "    date2num(dt.datetime(2021, 1, 15, 8, 1, 1)),\n",
    "    date2num(dt.datetime(2021, 1, 15, 10, 1, 1))\n",
    "]\n",
    "\n",
    "y2 = [3, 6, 5, 4, 1]\n",
    "\n",
    "fig, ax = plt.subplots()\n",
    "\n",
    "ax.plot_date(x1, y1, 'o--')\n",
    "ax.plot_date(x2, y2, 'o:')\n",
    "\n",
    "ax.xaxis.set_major_formatter(DateFormatter('%H:%M:%S'))\n",
    "ax.tick_params(rotation=45)\n",
    "\n",
    "plt.show()"
   ]
  },
  {
   "cell_type": "markdown",
   "id": "625c22a8",
   "metadata": {},
   "source": [
    "https://stackoverflow.com/questions/6963035/pyplot-common-axes-labels-for-subplots\n",
    "\n",
    "https://matplotlib.org/stable/api/_as_gen/matplotlib.pyplot.setp.html"
   ]
  },
  {
   "cell_type": "code",
   "execution_count": 27,
   "id": "18c0a391",
   "metadata": {},
   "outputs": [
    {
     "data": {
      "text/plain": [
       "[Text(0, 0.5, 'y axis label'),\n",
       " Text(0, 0.5, 'y axis label'),\n",
       " Text(0, 0.5, 'y axis label')]"
      ]
     },
     "execution_count": 27,
     "metadata": {},
     "output_type": "execute_result"
    },
    {
     "data": {
      "image/png": "[encoded data removed]",
      "text/plain": [
       "<Figure size 1080x576 with 9 Axes>"
      ]
     },
     "metadata": {
      "needs_background": "light"
     },
     "output_type": "display_data"
    }
   ],
   "source": [
    "# plot something\n",
    "fig, axs = plt.subplots(3,3, figsize=(15, 8), sharex=True, sharey=True)\n",
    "for i, ax in enumerate(axs.flat):\n",
    "    ax.scatter(*np.random.normal(size=(2,200)))\n",
    "    ax.set_title(f'Title {i}')\n",
    "\n",
    "# set labels\n",
    "plt.setp(axs[-1, :], xlabel='x axis label')\n",
    "plt.setp(axs[:, 0], ylabel='y axis label')"
   ]
  }
 ],
 "metadata": {
  "kernelspec": {
   "display_name": "py39_venv",
   "language": "python",
   "name": "py39_venv"
  },
  "language_info": {
   "codemirror_mode": {
    "name": "ipython",
    "version": 3
   },
   "file_extension": ".py",
   "mimetype": "text/x-python",
   "name": "python",
   "nbconvert_exporter": "python",
   "pygments_lexer": "ipython3",
   "version": "3.9.7"
  },
  "toc": {
   "base_numbering": 1,
   "nav_menu": {},
   "number_sections": true,
   "sideBar": true,
   "skip_h1_title": true,
   "title_cell": "Table of Contents",
   "title_sidebar": "Contents",
   "toc_cell": false,
   "toc_position": {
    "height": "calc(100% - 180px)",
    "left": "10px",
    "top": "150px",
    "width": "168.722px"
   },
   "toc_section_display": true,
   "toc_window_display": true
  }
 },
 "nbformat": 4,
 "nbformat_minor": 5
}
