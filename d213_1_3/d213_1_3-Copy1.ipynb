{
 "cells": [
  {
   "cell_type": "markdown",
   "id": "789b830d",
   "metadata": {},
   "source": [
    "# D213 Task 1 Rev 3 - Mattinson"
   ]
  },
  {
   "cell_type": "markdown",
   "id": "be5e0194",
   "metadata": {},
   "source": [
    "## import packages"
   ]
  },
  {
   "cell_type": "code",
   "execution_count": 1,
   "id": "82a8cba2",
   "metadata": {},
   "outputs": [],
   "source": [
    "#import basic libraries\n",
    "import pandas as pd\n",
    "import numpy as np\n",
    "import matplotlib.pyplot as plt\n",
    "plt.rcParams.update({'figure.figsize': (10, 7),\n",
    "                     'figure.dpi': 300})\n",
    "from sklearn.model_selection import train_test_split"
   ]
  },
  {
   "cell_type": "code",
   "execution_count": 2,
   "id": "9ffc9425",
   "metadata": {},
   "outputs": [],
   "source": [
    "# import required model libraries\n",
    "from statsmodels.tsa.stattools import acf, pacf\n",
    "from statsmodels.tsa.arima.model import ARIMA\n",
    "import statsmodels.tsa.stattools as ts"
   ]
  },
  {
   "cell_type": "code",
   "execution_count": 3,
   "id": "49cc9ee7",
   "metadata": {},
   "outputs": [],
   "source": [
    "# Where to save figures and model diagrams\n",
    "# adapted code (Geron, 2019)\n",
    "import os\n",
    "IMAGES_PATH = os.path.join(\".\", \"figures\")\n",
    "os.makedirs(IMAGES_PATH, exist_ok=True)\n",
    "\n",
    "def save_fig(fig_id, tight_layout=True, fig_extension=\"png\", resolution=300):\n",
    "    path = os.path.join(IMAGES_PATH, fig_id + \".\" + fig_extension)\n",
    "    print(\"Saving figure\", fig_id)\n",
    "    if tight_layout:\n",
    "        plt.tight_layout()\n",
    "    plt.savefig(path, format=fig_extension, \n",
    "        dpi=resolution, bbox_inches = \"tight\")\n",
    "    \n",
    "MODEL_PATH = os.path.join(\".\", \"models\")\n",
    "os.makedirs(MODEL_PATH, exist_ok=True)   \n",
    "\n",
    "TABLE_PATH = os.path.join(\".\", \"tables\")\n",
    "os.makedirs(TABLE_PATH, exist_ok=True) \n",
    "\n",
    "DATA_PATH = os.path.join(\".\", \"data\")\n",
    "os.makedirs(DATA_PATH, exist_ok=True)"
   ]
  },
  {
   "cell_type": "markdown",
   "id": "0d9eaa5e",
   "metadata": {},
   "source": [
    "## read files"
   ]
  },
  {
   "cell_type": "code",
   "execution_count": 4,
   "id": "1885b6ab",
   "metadata": {},
   "outputs": [],
   "source": [
    "def read_time_series(file: str, index: str) -> pd.DataFrame():\n",
    "    \"\"\"create dataframe of time series data\n",
    "    Author: Mike Mattinson\n",
    "    Date: June 22, 2022\n",
    "    \n",
    "    Parameters\n",
    "    ----------\n",
    "    file: str\n",
    "       filename of time series data\n",
    "    index: str\n",
    "       column name of date index\n",
    "    \n",
    "    Returns\n",
    "    -------\n",
    "    tsdf: pd.DataFrame()\n",
    "       time series dataframe\n",
    "    \n",
    "    \"\"\"\n",
    "    \n",
    "    tsdf =  pd.read_csv(file)\n",
    "    tsdf = tsdf.set_index(tsdf[index])\n",
    "    tsdf = tsdf.drop([index], axis=1)\n",
    "    print(tsdf.info())\n",
    "    print(tsdf.shape)\n",
    "    #print(tsdf.head(5))\n",
    "    \n",
    "    return tsdf # time series dataframe"
   ]
  },
  {
   "cell_type": "code",
   "execution_count": 5,
   "id": "9c8748d0",
   "metadata": {},
   "outputs": [
    {
     "name": "stdout",
     "output_type": "stream",
     "text": [
      "<class 'pandas.core.frame.DataFrame'>\n",
      "Int64Index: 730 entries, 1 to 731\n",
      "Data columns (total 1 columns):\n",
      " #   Column   Non-Null Count  Dtype  \n",
      "---  ------   --------------  -----  \n",
      " 0   Revenue  730 non-null    float64\n",
      "dtypes: float64(1)\n",
      "memory usage: 11.4 KB\n",
      "None\n",
      "(730, 1)\n"
     ]
    }
   ],
   "source": [
    "# read time series data from CSV file\n",
    "df =  read_time_series('data/teleco_time_series.csv', index='Day')"
   ]
  },
  {
   "cell_type": "markdown",
   "id": "fc2b3b47",
   "metadata": {},
   "source": [
    "## explore data"
   ]
  },
  {
   "cell_type": "code",
   "execution_count": 6,
   "id": "ac61ef08",
   "metadata": {},
   "outputs": [
    {
     "data": {
      "text/html": [
       "<div>\n",
       "<style scoped>\n",
       "    .dataframe tbody tr th:only-of-type {\n",
       "        vertical-align: middle;\n",
       "    }\n",
       "\n",
       "    .dataframe tbody tr th {\n",
       "        vertical-align: top;\n",
       "    }\n",
       "\n",
       "    .dataframe thead th {\n",
       "        text-align: right;\n",
       "    }\n",
       "</style>\n",
       "<table border=\"1\" class=\"dataframe\">\n",
       "  <thead>\n",
       "    <tr style=\"text-align: right;\">\n",
       "      <th></th>\n",
       "      <th>Revenue</th>\n",
       "    </tr>\n",
       "    <tr>\n",
       "      <th>Day</th>\n",
       "      <th></th>\n",
       "    </tr>\n",
       "  </thead>\n",
       "  <tbody>\n",
       "    <tr>\n",
       "      <th>1</th>\n",
       "      <td>0.000000</td>\n",
       "    </tr>\n",
       "    <tr>\n",
       "      <th>102</th>\n",
       "      <td>6.487956</td>\n",
       "    </tr>\n",
       "    <tr>\n",
       "      <th>202</th>\n",
       "      <td>6.419180</td>\n",
       "    </tr>\n",
       "    <tr>\n",
       "      <th>302</th>\n",
       "      <td>10.785571</td>\n",
       "    </tr>\n",
       "    <tr>\n",
       "      <th>402</th>\n",
       "      <td>12.281446</td>\n",
       "    </tr>\n",
       "    <tr>\n",
       "      <th>502</th>\n",
       "      <td>12.980905</td>\n",
       "    </tr>\n",
       "    <tr>\n",
       "      <th>602</th>\n",
       "      <td>14.651651</td>\n",
       "    </tr>\n",
       "    <tr>\n",
       "      <th>702</th>\n",
       "      <td>15.269829</td>\n",
       "    </tr>\n",
       "  </tbody>\n",
       "</table>\n",
       "</div>"
      ],
      "text/plain": [
       "       Revenue\n",
       "Day           \n",
       "1     0.000000\n",
       "102   6.487956\n",
       "202   6.419180\n",
       "302  10.785571\n",
       "402  12.281446\n",
       "502  12.980905\n",
       "602  14.651651\n",
       "702  15.269829"
      ]
     },
     "execution_count": 6,
     "metadata": {},
     "output_type": "execute_result"
    }
   ],
   "source": [
    "# show sample from dataframe\n",
    "df.iloc[::100, :]"
   ]
  },
  {
   "cell_type": "code",
   "execution_count": 7,
   "id": "3c479bf0",
   "metadata": {},
   "outputs": [],
   "source": [
    "# drop zero values\n",
    "df= df[df['Revenue'] != 0]"
   ]
  },
  {
   "cell_type": "code",
   "execution_count": 8,
   "id": "eea9bd8a",
   "metadata": {},
   "outputs": [
    {
     "data": {
      "text/html": [
       "<div>\n",
       "<style scoped>\n",
       "    .dataframe tbody tr th:only-of-type {\n",
       "        vertical-align: middle;\n",
       "    }\n",
       "\n",
       "    .dataframe tbody tr th {\n",
       "        vertical-align: top;\n",
       "    }\n",
       "\n",
       "    .dataframe thead th {\n",
       "        text-align: right;\n",
       "    }\n",
       "</style>\n",
       "<table border=\"1\" class=\"dataframe\">\n",
       "  <thead>\n",
       "    <tr style=\"text-align: right;\">\n",
       "      <th></th>\n",
       "      <th>Revenue</th>\n",
       "    </tr>\n",
       "  </thead>\n",
       "  <tbody>\n",
       "    <tr>\n",
       "      <th>count</th>\n",
       "      <td>729.000000</td>\n",
       "    </tr>\n",
       "    <tr>\n",
       "      <th>mean</th>\n",
       "      <td>9.849038</td>\n",
       "    </tr>\n",
       "    <tr>\n",
       "      <th>std</th>\n",
       "      <td>3.825359</td>\n",
       "    </tr>\n",
       "    <tr>\n",
       "      <th>min</th>\n",
       "      <td>0.000793</td>\n",
       "    </tr>\n",
       "    <tr>\n",
       "      <th>25%</th>\n",
       "      <td>6.916245</td>\n",
       "    </tr>\n",
       "    <tr>\n",
       "      <th>50%</th>\n",
       "      <td>10.804153</td>\n",
       "    </tr>\n",
       "    <tr>\n",
       "      <th>75%</th>\n",
       "      <td>12.568041</td>\n",
       "    </tr>\n",
       "    <tr>\n",
       "      <th>max</th>\n",
       "      <td>18.154769</td>\n",
       "    </tr>\n",
       "  </tbody>\n",
       "</table>\n",
       "</div>"
      ],
      "text/plain": [
       "          Revenue\n",
       "count  729.000000\n",
       "mean     9.849038\n",
       "std      3.825359\n",
       "min      0.000793\n",
       "25%      6.916245\n",
       "50%     10.804153\n",
       "75%     12.568041\n",
       "max     18.154769"
      ]
     },
     "execution_count": 8,
     "metadata": {},
     "output_type": "execute_result"
    }
   ],
   "source": [
    "# descripe numerical data\n",
    "df.describe()"
   ]
  },
  {
   "cell_type": "markdown",
   "id": "aeb744c6",
   "metadata": {},
   "source": [
    "## add rolling mean & rolling standard"
   ]
  },
  {
   "cell_type": "code",
   "execution_count": 9,
   "id": "11b65f4e",
   "metadata": {},
   "outputs": [],
   "source": [
    "#find rolling mean of previous n periods\n",
    "n_days = 30\n",
    "df['rolling_mean'] = df['Revenue'].rolling(n_days).mean()\n",
    "df['rolling_std'] = df['Revenue'].rolling(n_days).std()"
   ]
  },
  {
   "cell_type": "markdown",
   "id": "b6f68c14",
   "metadata": {},
   "source": [
    "## check missing data"
   ]
  },
  {
   "cell_type": "code",
   "execution_count": 10,
   "id": "3aa6d52e",
   "metadata": {},
   "outputs": [
    {
     "data": {
      "text/plain": [
       "Revenue         False\n",
       "rolling_mean     True\n",
       "rolling_std      True\n",
       "dtype: bool"
      ]
     },
     "execution_count": 10,
     "metadata": {},
     "output_type": "execute_result"
    }
   ],
   "source": [
    "#check missing data\n",
    "df.isnull().any()"
   ]
  },
  {
   "cell_type": "markdown",
   "id": "e555fc5a",
   "metadata": {},
   "source": [
    "## export cleaned data"
   ]
  },
  {
   "cell_type": "code",
   "execution_count": 11,
   "id": "31b5cbb9",
   "metadata": {},
   "outputs": [
    {
     "name": "stdout",
     "output_type": "stream",
     "text": [
      "<class 'pandas.core.frame.DataFrame'>\n",
      "Int64Index: 729 entries, 2 to 731\n",
      "Data columns (total 3 columns):\n",
      " #   Column        Non-Null Count  Dtype  \n",
      "---  ------        --------------  -----  \n",
      " 0   Revenue       729 non-null    float64\n",
      " 1   rolling_mean  700 non-null    float64\n",
      " 2   rolling_std   700 non-null    float64\n",
      "dtypes: float64(3)\n",
      "memory usage: 22.8 KB\n",
      "None\n",
      "(729, 3)\n",
      "       Revenue  rolling_mean  rolling_std\n",
      "Day                                      \n",
      "2     0.000793           NaN          NaN\n",
      "103   6.055527      6.782663     0.687540\n",
      "203   6.770456      5.870610     0.420109\n",
      "303   9.760365     10.492095     0.703232\n",
      "403  12.052705     11.369189     0.754945\n",
      "503  12.909134     13.000165     0.689036\n",
      "603  14.514572     13.872658     0.563632\n",
      "703  15.563935     13.910287     1.265516\n"
     ]
    }
   ],
   "source": [
    "# export cleaned data to file\n",
    "df.to_csv('tables\\cleaned.csv', index=True, header=True)\n",
    "print(df.info())\n",
    "print(df.shape)\n",
    "print(df.iloc[::100, :])"
   ]
  },
  {
   "cell_type": "markdown",
   "id": "2f7c413e",
   "metadata": {},
   "source": [
    "## visualize series"
   ]
  },
  {
   "cell_type": "markdown",
   "id": "ae56de98",
   "metadata": {},
   "source": [
    "### revenue plot with polyfit regression"
   ]
  },
  {
   "cell_type": "raw",
   "id": "896177d1",
   "metadata": {},
   "source": [
    "!pip install sympy"
   ]
  },
  {
   "cell_type": "code",
   "execution_count": 12,
   "id": "099ea17b",
   "metadata": {},
   "outputs": [
    {
     "name": "stdout",
     "output_type": "stream",
     "text": [
      "[ 4.50656875e-08 -6.84446893e-05  4.49076396e-02  1.19333017e+00]\n",
      "-6.8e-5*x**2 + 0.044908*x + 1.19333\n"
     ]
    }
   ],
   "source": [
    "# equation of poly fit \n",
    "# https://stackoverflow.com/questions/39801403/how-to-derive-equation-from-numpys-polyfit\n",
    "from sympy import S, symbols, printing\n",
    "x = np.array(df.index.values)\n",
    "y = df['Revenue'].values\n",
    "n_deg = 3\n",
    "p = np.polyfit(x, y, deg=n_deg)\n",
    "f = np.poly1d(p)\n",
    "e = symbols(\"x\")\n",
    "poly = sum(S(\"{:6.6f}\".format(v))*e**i for i, v in enumerate(p[::-1]))\n",
    "eq_latex = printing.latex(poly)\n",
    "print(p)\n",
    "print(poly) # won't include zero terms"
   ]
  },
  {
   "cell_type": "code",
   "execution_count": 13,
   "id": "dc4ba43c",
   "metadata": {},
   "outputs": [
    {
     "name": "stdout",
     "output_type": "stream",
     "text": [
      "Saving figure Revenue plot\n"
     ]
    },
    {
     "data": {
      "image/png": "[encoded data removed]",
      "text/plain": [
       "<Figure size 432x288 with 1 Axes>"
      ]
     },
     "metadata": {
      "needs_background": "light"
     },
     "output_type": "display_data"
    }
   ],
   "source": [
    "# visualize raw revenue data\n",
    "fig, ax = plt.subplots()\n",
    "ax.plot(x, y, \"r\", label='Original')\n",
    "ax.plot(x,f(x),\"b\", label='Poly fit (deg=' + str(n_deg) + ')')\n",
    "plt.xlabel(\"Date Index\")\n",
    "plt.ylabel(\"Revenue\")\n",
    "title = 'Revenue plot'\n",
    "plt.legend()\n",
    "plt.grid()\n",
    "plt.title(title)\n",
    "plt.gcf().text(0, -.1, \"${}$\".format(eq_latex), fontsize=14)\n",
    "plt.tight_layout()\n",
    "save_fig(title) "
   ]
  },
  {
   "cell_type": "markdown",
   "id": "481632da",
   "metadata": {},
   "source": [
    "### revenue plot with rolling mean & std deviation"
   ]
  },
  {
   "cell_type": "code",
   "execution_count": 14,
   "id": "23f40788",
   "metadata": {},
   "outputs": [
    {
     "name": "stdout",
     "output_type": "stream",
     "text": [
      "Saving figure Rolling Mean & Standard Deviation\n"
     ]
    },
    {
     "data": {
      "image/png": "[encoded data removed]",
      "text/plain": [
       "<Figure size 432x288 with 1 Axes>"
      ]
     },
     "metadata": {
      "needs_background": "light"
     },
     "output_type": "display_data"
    }
   ],
   "source": [
    "# plot rolling mean and rolling standard\n",
    "x = np.array(df.index.values)\n",
    "fig, ax = plt.subplots()\n",
    "ax.plot(x, df['Revenue'], \"r\", label='Original')\n",
    "ax.plot(x,df['rolling_mean'], \"b-.\", label=str(n_days) + ' day Roll Mean')\n",
    "ax.plot(x,df['rolling_std'], \"g\", label=str(n_days) + ' day Roll Std')\n",
    "plt.xlabel(\"Date Index\")\n",
    "plt.ylabel(\"Revenue\")\n",
    "title = 'Rolling Mean & Standard Deviation'\n",
    "plt.locator_params(axis=\"both\", \n",
    "      integer=True, tight=False)\n",
    "plt.legend()\n",
    "plt.grid()\n",
    "plt.title(title)\n",
    "save_fig(title) "
   ]
  },
  {
   "cell_type": "markdown",
   "id": "290eee01",
   "metadata": {},
   "source": [
    "Generally, trending up and not stationary. Also, does not appear to have seasonality."
   ]
  },
  {
   "cell_type": "markdown",
   "id": "c755f9e7",
   "metadata": {},
   "source": [
    "adapted from:\n",
    "https://www.youtube.com/watch?v=o7Ux5jKEbcw\n",
    "Michael Grogan"
   ]
  },
  {
   "cell_type": "code",
   "execution_count": 15,
   "id": "6e7d6959",
   "metadata": {},
   "outputs": [
    {
     "ename": "NameError",
     "evalue": "name 'rev' is not defined",
     "output_type": "error",
     "traceback": [
      "\u001b[1;31m---------------------------------------------------------\u001b[0m",
      "\u001b[1;31mNameError\u001b[0m               Traceback (most recent call last)",
      "Input \u001b[1;32mIn [15]\u001b[0m, in \u001b[0;36m<cell line: 2>\u001b[1;34m()\u001b[0m\n\u001b[0;32m      1\u001b[0m \u001b[38;5;66;03m# do this for stock prices, but not for revenue...\u001b[39;00m\n\u001b[1;32m----> 2\u001b[0m revenue \u001b[38;5;241m=\u001b[39m \u001b[43mrev\u001b[49m[\u001b[38;5;124m'\u001b[39m\u001b[38;5;124mRevenue\u001b[39m\u001b[38;5;124m'\u001b[39m]\u001b[38;5;241m.\u001b[39mvalues\n\u001b[0;32m      3\u001b[0m lnrevenue \u001b[38;5;241m=\u001b[39m np\u001b[38;5;241m.\u001b[39mlog(revenue)\n\u001b[0;32m      4\u001b[0m plt\u001b[38;5;241m.\u001b[39mplot(lnrevenue)\n",
      "\u001b[1;31mNameError\u001b[0m: name 'rev' is not defined"
     ]
    }
   ],
   "source": [
    "# do this for stock prices, but not for revenue...\n",
    "revenue = rev['Revenue'].values\n",
    "lnrevenue = np.log(revenue)\n",
    "plt.plot(lnrevenue)\n",
    "plt.show()"
   ]
  },
  {
   "cell_type": "markdown",
   "id": "31f9050f",
   "metadata": {},
   "source": [
    "Although, for time periods from 100+, the data appears to be \"stationary\"..."
   ]
  },
  {
   "cell_type": "markdown",
   "id": "f7bcc3ae",
   "metadata": {},
   "source": [
    "## Autocorrelation"
   ]
  },
  {
   "cell_type": "markdown",
   "id": "755c0b92",
   "metadata": {},
   "source": [
    "### python only"
   ]
  },
  {
   "cell_type": "code",
   "execution_count": null,
   "id": "e2218559",
   "metadata": {},
   "outputs": [],
   "source": [
    "# autocorrelation python only\n",
    "# adapted from https://scicoding.com/4-ways-of-calculating-autocorrelation-in-python/\n",
    "data = revenue.tolist()\n",
    "n_lags = 25\n",
    "acorr = []\n",
    "mean = sum(data) / len(data)  # mean\n",
    "var = sum([(x - mean)**2 for x in data]) / len(data) \n",
    "ndata = [x - mean for x in data]\n",
    "for l in range(1,n_lags):\n",
    "    c = 1 # Self correlation\n",
    "    if (l > 0):\n",
    "        tmp = [ndata[l:][i] * ndata[:-l][i] \n",
    "               for i in range(len(data) - l)]\n",
    "        c = sum(tmp) / len(data) / var\n",
    "    acorr.append(c)\n",
    "print(np.around(acorr, 3).tolist()) # print out list"
   ]
  },
  {
   "cell_type": "markdown",
   "id": "861f725c",
   "metadata": {},
   "source": [
    "### statsmodels library"
   ]
  },
  {
   "cell_type": "code",
   "execution_count": null,
   "id": "43661175",
   "metadata": {},
   "outputs": [],
   "source": [
    "# autocorrelation using statsmodels\n",
    "# adapted from https://scicoding.com/4-ways-of-calculating-autocorrelation-in-python/\n",
    "n_lags = 25\n",
    "data = revenue.tolist()\n",
    "import statsmodels.api as sm\n",
    "acorr = sm.tsa.acf(data, nlags = (n_lags)-1)\n",
    "print(np.around(acorr, 3).tolist()) # print out list"
   ]
  },
  {
   "cell_type": "markdown",
   "id": "0d2dc82c",
   "metadata": {},
   "source": [
    "### numpy.correlate"
   ]
  },
  {
   "cell_type": "code",
   "execution_count": null,
   "id": "f037f211",
   "metadata": {},
   "outputs": [],
   "source": [
    "# autocorrelation using numpy\n",
    "# adapted from https://scicoding.com/4-ways-of-calculating-autocorrelation-in-python/\n",
    "import numpy\n",
    "n_lags = 25\n",
    "data = revenue.tolist()\n",
    "x = np.array(data) \n",
    "mean = numpy.mean(data)\n",
    "var = numpy.var(data)\n",
    "ndata = data - mean\n",
    "acorr = numpy.correlate(ndata, ndata, 'full')[len(ndata)-1:] \n",
    "acorr = acorr / var / len(ndata)\n",
    "print(np.around(acorr, 3).tolist()[:n_lags]) # print out list"
   ]
  },
  {
   "cell_type": "markdown",
   "id": "b54fba55",
   "metadata": {},
   "source": [
    "### numpy & fourier transform"
   ]
  },
  {
   "cell_type": "code",
   "execution_count": null,
   "id": "b417853f",
   "metadata": {},
   "outputs": [],
   "source": [
    "import numpy\n",
    "n_lags = 25\n",
    "data = revenue.tolist()\n",
    "# Nearest size with power of 2\n",
    "size = 2 ** numpy.ceil(numpy.log2(2*len(data) - 1)).astype('int')\n",
    "var = numpy.var(data) # variance\n",
    "ndata = data - numpy.mean(data) # normalize data\n",
    "fft = numpy.fft.fft(ndata, size) # calculate fft\n",
    "pwr = np.abs(fft) ** 2 # get power spectrum\n",
    "\n",
    "# Calculate the autocorrelation from inverse FFT of the power spectrum\n",
    "acorr = numpy.fft.ifft(pwr).real / var / len(data)\n",
    "print(np.around(acorr, 3).tolist()[:n_lags]) # print out list"
   ]
  },
  {
   "cell_type": "markdown",
   "id": "48f4a27a",
   "metadata": {},
   "source": [
    "### Plot Autocorrelation"
   ]
  },
  {
   "cell_type": "code",
   "execution_count": null,
   "id": "699dab3f",
   "metadata": {},
   "outputs": [],
   "source": [
    "# autocorrelation\n",
    "acf_1 = acf(lnrevenue)\n",
    "test_df = pd.DataFrame([acf_1]).T\n",
    "test_df.columns = ['Autocorrelation']\n",
    "test_df.index += 1\n",
    "test_df.plot(kind='bar')\n",
    "plt.xlabel(\"Lag\")\n",
    "plt.ylabel(\"Correlation\")\n",
    "title = 'Autocorrelation'\n",
    "plt.legend()\n",
    "plt.title(title)\n",
    "save_fig(title)"
   ]
  },
  {
   "cell_type": "markdown",
   "id": "68d4ae0d",
   "metadata": {},
   "source": [
    "The autocorrelation is a steady decrease downward..."
   ]
  },
  {
   "cell_type": "code",
   "execution_count": null,
   "id": "e4f23be2",
   "metadata": {},
   "outputs": [],
   "source": [
    "# partial autocorrelation\n",
    "pacf_1 = pacf(lnrevenue)\n",
    "test_df = pd.DataFrame([pacf_1]).T\n",
    "test_df.columns = ['Partial Autocorrelation']\n",
    "test_df.index += 1\n",
    "test_df.plot(kind='bar')\n",
    "plt.xlabel(\"Lag\")\n",
    "plt.ylabel(\"Correlation\")\n",
    "title = 'Partial Autocorrelation'\n",
    "plt.legend()\n",
    "plt.title(title)\n",
    "save_fig(title)"
   ]
  },
  {
   "cell_type": "markdown",
   "id": "b83c7b7b",
   "metadata": {},
   "source": [
    "The partial autocorrelation is a sudden drop. Combined with the steady decrease of the autocorrelation indicates that there is an \"stationary\" AR1 process of the time series data which is the way we want the time-series to be structured."
   ]
  },
  {
   "cell_type": "markdown",
   "id": "c2b25732",
   "metadata": {},
   "source": [
    "### augmented dickey-fuller"
   ]
  },
  {
   "cell_type": "markdown",
   "id": "f089d9b6",
   "metadata": {},
   "source": [
    "https://www.statsmodels.org/dev/generated/statsmodels.tsa.stattools.adfuller.html\n",
    "https://machinelearningmastery.com/time-series-data-stationary-python/ "
   ]
  },
  {
   "cell_type": "code",
   "execution_count": null,
   "id": "243a795e",
   "metadata": {},
   "outputs": [],
   "source": [
    "# augmented dickey-fuller - test for stationary data\n",
    "result = ts.adfuller(df['Revenue'].values, 1)\n",
    "print('Data: df (raw, non-stationary)')\n",
    "print('ADF Statistic: %f' % result[0])\n",
    "print('p-value: %f' % result[1])\n",
    "print('Critical Values:')\n",
    "for key, value in result[4].items():\n",
    "    print('\\t%s: %.3f' % (key, value))\n",
    "    \n",
    "# code adapted from (Elleh, 2022)\n",
    "# H0: Non-stationary\n",
    "# H1: Stationary\n",
    "if result[1]<=0.05:\n",
    "    print('Reject null, series is stationary.')\n",
    "else:\n",
    "    print('Fail to reject null, series is non-stationary.')"
   ]
  },
  {
   "cell_type": "markdown",
   "id": "3c142b72",
   "metadata": {},
   "source": [
    "## make data stationary"
   ]
  },
  {
   "cell_type": "markdown",
   "id": "1455957f",
   "metadata": {},
   "source": [
    "https://pandas.pydata.org/docs/reference/api/pandas.DataFrame.diff.html"
   ]
  },
  {
   "cell_type": "code",
   "execution_count": null,
   "id": "8439dc86",
   "metadata": {},
   "outputs": [],
   "source": [
    "\"\"\"Calculates difference of Dataframe element compared with another \n",
    "element in the Dataframe (default is element in previous row).\"\"\"\n",
    "df_stationary = df.diff(periods=1,axis=0).dropna()\n",
    "print(df_stationary.info())\n",
    "print(df_stationary.shape)\n",
    "#print(df_stationary.describe())"
   ]
  },
  {
   "cell_type": "code",
   "execution_count": null,
   "id": "44d95908",
   "metadata": {},
   "outputs": [],
   "source": [
    "# augmented dicky-fuller AR1 - test for stationary data\n",
    "result = ts.adfuller(df_stationary['Revenue'].values,1)\n",
    "print('Data: df_stationary (differenced)')\n",
    "print('ADF Statistic: %f' % result[0])\n",
    "print('p-value: %f' % result[1])\n",
    "print('Critical Values:')\n",
    "for key, value in result[4].items():\n",
    "    print('\\t%s: %.3f' % (key, value))\n",
    "    \n",
    "# code adapted from (Elleh, 2022)\n",
    "# H0: Non-stationary\n",
    "# H1: Stationary\n",
    "if result[1]<=0.05:\n",
    "    print('Reject null, series is stationary.')\n",
    "else:\n",
    "    print('Fail to reject null, series is non-stationary.')"
   ]
  },
  {
   "cell_type": "markdown",
   "id": "d213f367",
   "metadata": {},
   "source": [
    "## export stationary data"
   ]
  },
  {
   "cell_type": "code",
   "execution_count": null,
   "id": "991714e2",
   "metadata": {},
   "outputs": [],
   "source": [
    "# export stationary data to file\n",
    "df_stationary.to_csv('tables\\stationary.csv', index=True, header=True)\n",
    "print(df_stationary.info())\n",
    "print(df_stationary.shape)\n",
    "print(df_stationary.iloc[::100, :])"
   ]
  },
  {
   "cell_type": "markdown",
   "id": "2c1fe0f4",
   "metadata": {},
   "source": [
    "## train test split"
   ]
  },
  {
   "cell_type": "markdown",
   "id": "70f528d1",
   "metadata": {},
   "source": [
    "https://scikit-learn.org/stable/modules/generated/sklearn.model_selection.train_test_split.html"
   ]
  },
  {
   "cell_type": "code",
   "execution_count": null,
   "id": "70335c09",
   "metadata": {},
   "outputs": [],
   "source": [
    "#setup training and test data 80/20\n",
    "test_size = int(.20 * df_stationary.shape[0])  # last 20%\n",
    "train, test = train_test_split(df, test_size=test_size, shuffle=False)\n",
    "print('training: {}'.format(train.shape))\n",
    "print('testing: {}'.format(test.shape))"
   ]
  },
  {
   "cell_type": "markdown",
   "id": "77493d17",
   "metadata": {},
   "source": [
    "## decompose data"
   ]
  },
  {
   "cell_type": "code",
   "execution_count": null,
   "id": "29f38e89",
   "metadata": {},
   "outputs": [],
   "source": [
    "# decompose revenue data - additive\n",
    "# adapted from https://machinelearningmastery.com/decompose-time-series-data-trend-seasonality/\n",
    "from statsmodels.tsa.seasonal import seasonal_decompose\n",
    "result = seasonal_decompose(df_stationary['Revenue'].values, \n",
    "            model='additive', period=1)\n",
    "result.plot()\n",
    "plt.show()"
   ]
  },
  {
   "cell_type": "raw",
   "id": "b23093a2",
   "metadata": {},
   "source": [
    "# decompose log data\n",
    "result = seasonal_decompose(lnrevenue, model='additive', period=1)\n",
    "result.plot()\n",
    "pyplot.show()"
   ]
  },
  {
   "cell_type": "raw",
   "id": "73b7e5e2",
   "metadata": {},
   "source": [
    "# decompose revenue data - multiplicative\n",
    "# adapted from https://machinelearningmastery.com/decompose-time-series-data-trend-seasonality/\n",
    "from matplotlib import pyplot\n",
    "from statsmodels.tsa.seasonal import seasonal_decompose\n",
    "result = seasonal_decompose(revenue, model='multiplicative', period=1)\n",
    "result.plot()\n",
    "pyplot.show()"
   ]
  },
  {
   "cell_type": "markdown",
   "id": "fca3d296",
   "metadata": {},
   "source": [
    "## define & train model(s)"
   ]
  },
  {
   "cell_type": "markdown",
   "id": "801fedb1",
   "metadata": {},
   "source": [
    "### arima_v1"
   ]
  },
  {
   "cell_type": "code",
   "execution_count": null,
   "id": "9d994f03",
   "metadata": {},
   "outputs": [],
   "source": [
    "# run model and predict\n",
    "X_train = np.array(train['Revenue'])\n",
    "model = ARIMA(X_train, order=(0,1,0))\n",
    "arima_v1 = model.fit()\n",
    "print(arima_v1.summary())"
   ]
  },
  {
   "cell_type": "markdown",
   "id": "78e0d5a0",
   "metadata": {},
   "source": [
    "## plot predictions"
   ]
  },
  {
   "cell_type": "code",
   "execution_count": null,
   "id": "7421061e",
   "metadata": {},
   "outputs": [],
   "source": [
    "# predict next 9 time step values\n",
    "n_predictions = 9; last_time = 730\n",
    "predictions = arima_v1.predict(700,710, type='levels')\n",
    "predictions"
   ]
  },
  {
   "cell_type": "code",
   "execution_count": null,
   "id": "afb81fd6",
   "metadata": {},
   "outputs": [],
   "source": [
    "x = range(len(predictions))\n",
    "fig, ax = plt.subplots()\n",
    "ax.plot(x, predictions, \"b\", label='Predictions')\n",
    "plt.xlabel(\"Date Index\")\n",
    "plt.ylabel(\"Revenue\")\n",
    "title = 'Predictions'\n",
    "plt.locator_params(axis=\"both\", \n",
    "      integer=True, tight=False)\n",
    "plt.legend()\n",
    "plt.grid()\n",
    "plt.title(title)\n",
    "save_fig(title) "
   ]
  },
  {
   "cell_type": "code",
   "execution_count": null,
   "id": "e66d97b4",
   "metadata": {},
   "outputs": [],
   "source": []
  },
  {
   "cell_type": "code",
   "execution_count": null,
   "id": "3ad4115c",
   "metadata": {},
   "outputs": [],
   "source": []
  },
  {
   "cell_type": "code",
   "execution_count": null,
   "id": "aae4737c",
   "metadata": {},
   "outputs": [],
   "source": []
  },
  {
   "cell_type": "code",
   "execution_count": null,
   "id": "b85f883d",
   "metadata": {},
   "outputs": [],
   "source": []
  }
 ],
 "metadata": {
  "kernelspec": {
   "display_name": "py39_venv",
   "language": "python",
   "name": "py39_venv"
  },
  "language_info": {
   "codemirror_mode": {
    "name": "ipython",
    "version": 3
   },
   "file_extension": ".py",
   "mimetype": "text/x-python",
   "name": "python",
   "nbconvert_exporter": "python",
   "pygments_lexer": "ipython3",
   "version": "3.9.7"
  },
  "toc": {
   "base_numbering": 1,
   "nav_menu": {},
   "number_sections": true,
   "sideBar": true,
   "skip_h1_title": true,
   "title_cell": "Table of Contents",
   "title_sidebar": "Contents",
   "toc_cell": false,
   "toc_position": {
    "height": "calc(100% - 180px)",
    "left": "10px",
    "top": "150px",
    "width": "168.722px"
   },
   "toc_section_display": true,
   "toc_window_display": true
  }
 },
 "nbformat": 4,
 "nbformat_minor": 5
}
